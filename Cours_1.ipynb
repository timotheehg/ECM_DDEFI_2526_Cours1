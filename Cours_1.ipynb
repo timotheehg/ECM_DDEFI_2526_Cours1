{
  "nbformat": 4,
  "nbformat_minor": 0,
  "metadata": {
    "colab": {
      "provenance": [],
      "authorship_tag": "ABX9TyMe/j4ewhDj9YZXP404OtB6",
      "include_colab_link": true
    },
    "kernelspec": {
      "name": "python3",
      "display_name": "Python 3"
    },
    "language_info": {
      "name": "python"
    }
  },
  "cells": [
    {
      "cell_type": "markdown",
      "metadata": {
        "id": "view-in-github",
        "colab_type": "text"
      },
      "source": [
        "<a href=\"https://colab.research.google.com/github/timotheehg/ECM_DDEFI_2526_Cours1/blob/main/Cours_1.ipynb\" target=\"_parent\"><img src=\"https://colab.research.google.com/assets/colab-badge.svg\" alt=\"Open In Colab\"/></a>"
      ]
    },
    {
      "cell_type": "code",
      "execution_count": 1,
      "metadata": {
        "colab": {
          "base_uri": "https://localhost:8080/"
        },
        "id": "tzPsBOnULgDf",
        "outputId": "c7745dda-fd15-4d2e-ca83-f3753e24b1bd"
      },
      "outputs": [
        {
          "output_type": "stream",
          "name": "stdout",
          "text": [
            "Hello Centrale\n"
          ]
        }
      ],
      "source": [
        "# Première fonction de Python\n",
        "print(\"Hello Centrale MARSEILLE\")"
      ]
    },
    {
      "cell_type": "code",
      "source": [
        "# Variable\n",
        "a = \"Alice\" #data type is STRING\n",
        "height = 1.85 #data type is Num\n",
        "is_student = True #Bolean"
      ],
      "metadata": {
        "id": "xQATIoR1PZM8"
      },
      "execution_count": 2,
      "outputs": []
    },
    {
      "cell_type": "code",
      "source": [
        "height\n",
        "print(height)"
      ],
      "metadata": {
        "colab": {
          "base_uri": "https://localhost:8080/"
        },
        "id": "bWufnaEWQGWQ",
        "outputId": "ee2f5630-2e8b-4e8f-facc-e020b8fd6764"
      },
      "execution_count": 3,
      "outputs": [
        {
          "output_type": "stream",
          "name": "stdout",
          "text": [
            "1.85\n"
          ]
        }
      ]
    },
    {
      "cell_type": "code",
      "source": [
        "# Il existe depuis la maj sur un F PRINT\n",
        "\n",
        "print( f\"{a} fait {height} en m, et est une etudiante {is_student}\")"
      ],
      "metadata": {
        "colab": {
          "base_uri": "https://localhost:8080/"
        },
        "id": "MXXrNYbCQJG1",
        "outputId": "a9551946-8a96-4d85-8a66-fccde4b39257"
      },
      "execution_count": 7,
      "outputs": [
        {
          "output_type": "stream",
          "name": "stdout",
          "text": [
            "Alice fait 1.85 en m, et est une etudiante True\n"
          ]
        }
      ]
    },
    {
      "cell_type": "code",
      "source": [],
      "metadata": {
        "id": "XuRgLRTcRS4G"
      },
      "execution_count": null,
      "outputs": []
    },
    {
      "cell_type": "code",
      "source": [
        "!pip install numpy"
      ],
      "metadata": {
        "colab": {
          "base_uri": "https://localhost:8080/"
        },
        "id": "MyCwR7TZRGzc",
        "outputId": "fc0fc985-17d5-49d6-a1c8-009e54f526dd"
      },
      "execution_count": 8,
      "outputs": [
        {
          "output_type": "stream",
          "name": "stdout",
          "text": [
            "Requirement already satisfied: numpy in /usr/local/lib/python3.12/dist-packages (2.0.2)\n"
          ]
        }
      ]
    }
  ]
}